{
 "cells": [
  {
   "cell_type": "markdown",
   "metadata": {},
   "source": [
    "## Finance Bot Using Langchain , Openai, Streamlit\n",
    "\n"
   ]
  },
  {
   "cell_type": "code",
   "execution_count": 1,
   "metadata": {},
   "outputs": [
    {
     "name": "stderr",
     "output_type": "stream",
     "text": [
      "c:\\Users\\Arushi Prajapati\\OneDrive\\Desktop\\codes\\openai-demo\\venv\\Lib\\site-packages\\tqdm\\auto.py:21: TqdmWarning: IProgress not found. Please update jupyter and ipywidgets. See https://ipywidgets.readthedocs.io/en/stable/user_install.html\n",
      "  from .autonotebook import tqdm as notebook_tqdm\n"
     ]
    }
   ],
   "source": [
    "from langchain.document_loaders import UnstructuredURLLoader\n",
    "from langchain.text_splitter import RecursiveCharacterTextSplitter\n",
    "from sentence_transformers import SentenceTransformer,util\n",
    "import numpy as np\n",
    "import faiss"
   ]
  },
  {
   "cell_type": "code",
   "execution_count": 2,
   "metadata": {},
   "outputs": [],
   "source": [
    "loader = UnstructuredURLLoader(\n",
    "    urls=[\n",
    "        'https://www.moneycontrol.com/news/business/markets/oil-settles-lower-ahead-of-opec-decision-11817711.html',\n",
    "        'https://www.moneycontrol.com/news/india/latest-daily-news-live-india-world-cyclone-michaung-chennai-floods-israel-hamas-war-breaking-news-and-updates-liveblog-11860771.html'\n",
    "    ]\n",
    "    # urls=[\n",
    "    #     'https://www.moneycontrol.com/news/business/markets/oil-settles-lower-ahead-of-opec-decision-11817711.html',\n",
    "    #     'https://www.moneycontrol.com/news/business/markets/gold-hits-6-month-high-on-fed-pause-expectation-softer-dollar-11817261.html'\n",
    "    # ]\n",
    ")\n",
    "data=loader.load()"
   ]
  },
  {
   "cell_type": "code",
   "execution_count": 3,
   "metadata": {},
   "outputs": [
    {
     "data": {
      "text/plain": [
       "[Document(page_content='English\\n\\nHindi\\n\\nGujarati\\n\\nSpecials\\n\\nTrending Stocks\\n\\nTata Power\\xa0INE245A01021, TATAPOWER, 500400\\n\\nTata Tech\\xa0INE142M01025, TATATECH, 544028\\n\\nAdani Enterpris\\xa0INE423A01024, ADANIENT, 512599\\n\\nAdani Power\\xa0INE814H01011, ADANIPOWER, 533096\\n\\nSuzlon Energy\\xa0INE040H01021, SUZLON, 532667\\n\\nCheck your Credit Score here!\\n\\nQuotes\\n\\nMutual Funds\\n\\nCommodities\\n\\nFutures & Options\\n\\nCurrency\\n\\nNews\\n\\nCryptocurrency\\n\\nForum\\n\\nNotices\\n\\nVideos\\n\\nGlossary\\n\\nAll\\n\\nHello, LoginHello, LoginLog-inor Sign-UpMy AccountMy Profile My PortfolioMy WatchlistMy Credit Score₹100 CashbackMy FeedMy MessagesMy AlertsMy Profile My PROMy PortfolioMy WatchlistMy Credit Score₹100 CashbackMy FeedMy MessagesMy AlertsLogoutChat with UsDownload AppFollow us on:\\n\\nPremium\\n\\nMy Feed\\n\\nMarketsHOMEINDIAN INDICESSTOCK ACTIONAll StatsTop GainersTop LosersOnly BuyersOnly Sellers52 Week High52 Week LowPrice ShockersVolume ShockersMost Active StocksGLOBAL MARKETSUS MARKETSBIG SHARK PORTFOLIOSSTOCK SCANNERECONOMIC CALENDARMARKET ACTIONDashboardF&OFII & DII ActivityCorporate ActionEARNINGSCOMMODITYPRE MARKETRESEARCHAdviceBroker ResearchTechnicalsCURRENCYWEBINARINTERVIEW SERIESIPOOTHERSBondsCryptocurrencyToolsNewsHOMEPAGEBUSINESSHomeEconomyCompaniesMutual FundsPersonal FinanceIPOStartupsReal EstateSMEGEOGRAPHYIndiaWorldMARKETSHomeStocksTechnical AnalysisEquity ResearchCommodityCurrencyGold RateSilver RateSPECIALTrendsLatest NewsOpinionTECHNOLOGYPersonal TechAutoFintechMEDIAPodcastPhotosInfographicsVideosOTHERSMC LearnPoliticsCricketEntertainmentTravelLifestyleHealth and FitnessEducationScienceBooksMC BuzzMC FeaturesTech/StartupsPortfolioWatchlistCommoditiesMutual FundsEXPLOREHomeFind FundTop Ranked FundsPerformance TrackerSIP Performance TrackerETF PerformanceNFOTop Performing CategoriesLearnTOOLSReturns CalculatorLumpsum SIP BalancerDelay Cost CalculatorSIP ReturnMF FORUMTRACKYour MF InvestmentMF PricesMC 30Personal FinanceEXPLOREHomeInvestingInsuranceBankingFinancial PlanningPropertyToolsVideoAsk ExpertExplainerIncome Tax Filing GuideNPSFIXED DEPOSITFixed Deposit Interest CalculatorCorporate DepositsTAXIncome tax Filing GuideIncome Tax CalculatorEmergency Fund CalculatorLOANS & CREDIT CARDSHomeCar Loan CalculatorHome Loan CalculatorEducation Loan CalculatorCredit Card Debit Payoff CalculatorTOOLSProvident Fund CalculatorAssets Allocation PlanningDebt Reduction PlannerDebt Evaluation CalculatorCurrent Expense CalculatorCredit Score₹100 CashbackREAL ESTATE : TRENDS & ANALYTICSMC 30MONEYCONTROL - SECURENOW HEALTH INSURANCE RATINGSGOLD PRICE TODAYUpcoming Chat | Previous TranscriptsAll Schedule | Previous TranscriptForumEXPLORE FORUMHomepageMembership RulesForum TopicsAsk the ExpertTop BoardersUSER PROFILEFORUM TOPICSLatest ThreadsStocksIndexGoldPersonal FinanceJust PostedMF FORUMPOLLSLatest PollsHistorical PollsMarket SentimentsSUPPORTFAQsCode of ConductFeedbackWrite to usVideosVIDEOSHomepageVideos on DemandMarkets with Santo & CJMorning TradeCommodities chat with Manisha GuptaLet`s Talk JobsThe TenantDrive ReportBajar GupshupBits To BillionsPODCASTHomepagePodcast on DemandThe Week on Dalal StreetMarket MinutesMC Special PodcastSimply SavePolicy TalksLIVE TVHindiGujaratiInvest Now.investNW .sepInvsli a.pdg_btm{ padding-bottom: 46px; }\\n\\t\\t.header_desktop.header1024 .investNW .sepInvsli a.pdg_btm{padding-bottom: 0px;}\\n\\t\\t@media screen and (max-width:1279px) { \\n\\t\\t\\t.investNW .sepInvsli a.pdg_btm{ padding-bottom: 0px; } \\n\\t\\t}Invest in bonds onlinePowered By Invest in high-rated bonds from as low as Rs. 10,000Find & Invest in bonds issued by top corporates, PSU Banks, NBFCs, and much more. Invest as low as 10,000 and earn better returns than FDInvest NowExpert Trading GuidancePowered By Trading Advisories, Courses & Webinars by Top Verified Experts.Unlock Your Trading Potential: Trade like Experts with SEBI registered creators, Learn from Courses & Webinars by India\\'s Finest Finance Experts.Invest NowSubscriptionAMBAREESH BALIGAFundamental, Stock Ideas, Multibaggers & InsightsSubscribeCK NARAYANStock & Index F&O Trading Calls & Market AnalysisSubscribeSUDARSHAN SUKHANITechnical Call, Trading Calls & InsightsSubscribeT GNANASEKARCommodity Trading Calls & Market AnalysisSubscribeMECKLAI FINANCIALSCurrency Derivatives Trading Calls & InsightsSubscribeSHUBHAM AGARWALOptions Trading Advice and Market AnalysisSubscribeMARKET SMITH INDIAModel portfolios, Investment Ideas, Guru Screens and Much MoreSubscribeTraderSmithProprietary system driven Rule Based Trading callsSubscribeCurated markets data, exclusive trading recommendations, Independent equity analysis & actionable investment ideasSubscribeCurated markets data, exclusive trading recommendations, Independent equity analysis & actionable investment ideasExploreSTOCK REPORTS BY THOMSON REUTERSDetails stock report and investment recommendationSubscribePOWER YOUR TRADETechnical and Commodity CallsSubscribeINVESTMENT WATCHSet price, volume and news alertsSubscribeGo Ad-Free BusinessMarketsStocksEconomyCompaniesTrendsIPOOpinionEV Special\\n\\n>->MC_ENG_DESKTOP/MC_ENG_NEWS/MC_ENG_MARKETS_AS/MC_ENG_ROS_NWS_MKTS_AS_ATF_728\\n\\nGo PRO @₹99\\n\\nPRO\\n\\nAdvertisement\\n\\nRemove Ad\\n\\n\\n\\nMarketsHOMEINDIAN INDICESSTOCK ACTIONAll StatsTop GainersTop LosersOnly BuyersOnly Sellers52 Week High52 Week LowPrice ShockersVolume ShockersMost Active StocksGLOBAL MARKETSUS MARKETSBIG SHARK PORTFOLIOSSTOCK SCANNERECONOMIC CALENDARMARKET ACTIONDashboardF&OFII & DII ActivityCorporate ActionEARNINGSCOMMODITYPRE MARKETRESEARCHAdviceBroker ResearchTechnicalsCURRENCYWEBINARINTERVIEW SERIESIPOOTHERSBondsCryptocurrencyTools\\n\\nNewsHOMEPAGEBUSINESSHomeEconomyCompaniesMutual FundsPersonal FinanceIPOStartupsReal EstateSMEGEOGRAPHYIndiaWorldMARKETSHomeStocksTechnical AnalysisEquity ResearchCommodityCurrencyGold RateSilver RateSPECIALTrendsLatest NewsOpinionTECHNOLOGYPersonal TechAutoFintechMEDIAPodcastPhotosInfographicsVideosOTHERSMC LearnPoliticsCricketEntertainmentTravelLifestyleHealth and FitnessEducationScienceBooksMC BuzzMC Features\\n\\nTech/Startups\\n\\nPortfolio\\n\\nWatchlist\\n\\nCommodities\\n\\nMutual FundsEXPLOREHomeFind FundTop Ranked FundsPerformance TrackerSIP Performance TrackerETF PerformanceNFOTop Performing CategoriesLearnTOOLSReturns CalculatorLumpsum SIP BalancerDelay Cost CalculatorSIP ReturnMF FORUMTRACKYour MF InvestmentMF PricesMC 30\\n\\nPersonal FinanceEXPLOREHomeInvestingInsuranceBankingFinancial PlanningPropertyToolsVideoAsk ExpertExplainerIncome Tax Filing GuideNPSFIXED DEPOSITFixed Deposit Interest CalculatorCorporate DepositsTAXIncome tax Filing GuideIncome Tax CalculatorEmergency Fund CalculatorLOANS & CREDIT CARDSHomeCar Loan CalculatorHome Loan CalculatorEducation Loan CalculatorCredit Card Debit Payoff CalculatorTOOLSProvident Fund CalculatorAssets Allocation PlanningDebt Reduction PlannerDebt Evaluation CalculatorCurrent Expense CalculatorCredit Score₹100 CashbackREAL ESTATE : TRENDS & ANALYTICSMC 30MONEYCONTROL - SECURENOW HEALTH INSURANCE RATINGSGOLD PRICE TODAYUpcoming Chat | Previous TranscriptsAll Schedule | Previous Transcript\\n\\nForumEXPLORE FORUMHomepageMembership RulesForum TopicsAsk the ExpertTop BoardersUSER PROFILEFORUM TOPICSLatest ThreadsStocksIndexGoldPersonal FinanceJust PostedMF FORUMPOLLSLatest PollsHistorical PollsMarket SentimentsSUPPORTFAQsCode of ConductFeedbackWrite to us\\n\\nVideosVIDEOSHomepageVideos on DemandMarkets with Santo & CJMorning TradeCommodities chat with Manisha GuptaLet`s Talk JobsThe TenantDrive ReportBajar GupshupBits To BillionsPODCASTHomepagePodcast on DemandThe Week on Dalal StreetMarket MinutesMC Special PodcastSimply SavePolicy TalksLIVE TVHindiGujarati\\n\\nInvest Now.investNW .sepInvsli a.pdg_btm{ padding-bottom: 46px; }\\n\\t\\t.header_desktop.header1024 .investNW .sepInvsli a.pdg_btm{padding-bottom: 0px;}\\n\\t\\t@media screen and (max-width:1279px) { \\n\\t\\t\\t.investNW .sepInvsli a.pdg_btm{ padding-bottom: 0px; } \\n\\t\\t}Invest in bonds onlinePowered By Invest in high-rated bonds from as low as Rs. 10,000Find & Invest in bonds issued by top corporates, PSU Banks, NBFCs, and much more. Invest as low as 10,000 and earn better returns than FDInvest NowExpert Trading GuidancePowered By Trading Advisories, Courses & Webinars by Top Verified Experts.Unlock Your Trading Potential: Trade like Experts with SEBI registered creators, Learn from Courses & Webinars by India\\'s Finest Finance Experts.Invest Now\\n\\nSubscriptionAMBAREESH BALIGAFundamental, Stock Ideas, Multibaggers & InsightsSubscribeCK NARAYANStock & Index F&O Trading Calls & Market AnalysisSubscribeSUDARSHAN SUKHANITechnical Call, Trading Calls & InsightsSubscribeT GNANASEKARCommodity Trading Calls & Market AnalysisSubscribeMECKLAI FINANCIALSCurrency Derivatives Trading Calls & InsightsSubscribeSHUBHAM AGARWALOptions Trading Advice and Market AnalysisSubscribeMARKET SMITH INDIAModel portfolios, Investment Ideas, Guru Screens and Much MoreSubscribeTraderSmithProprietary system driven Rule Based Trading callsSubscribeCurated markets data, exclusive trading recommendations, Independent equity analysis & actionable investment ideasSubscribeCurated markets data, exclusive trading recommendations, Independent equity analysis & actionable investment ideasExploreSTOCK REPORTS BY THOMSON REUTERSDetails stock report and investment recommendationSubscribePOWER YOUR TRADETechnical and Commodity CallsSubscribeINVESTMENT WATCHSet price, volume and news alertsSubscribe\\n\\nGo Ad-Free\\n\\nBusiness\\n\\nMarkets\\n\\nStocks\\n\\nEconomy\\n\\nCompanies\\n\\nTrends\\n\\nIPO\\n\\nOpinion\\n\\nEV Special\\n\\nWondering if your credit score tops 650?\\n\\n₹100 Cash Reward for good Credit Score!\\n\\nHome\\n\\nNews\\n\\nBusiness\\n\\nMarkets\\n\\nOil settles lower ahead of OPEC+ decision\\n\\n(This Nov. 24 story has been corrected to add weekly loss data in paragraph 2 and show that there was no weekly oil price gain in the headline and paragraph ..\\n\\nReuters\\n\\nNovember 27, 2023 / 09:19 PM IST\\n\\n\\n\\n\\n\\n\\n\\n\\n\\n\\n\\n\\n\\nOil settles lower ahead of OPEC+ decision\\n\\nOil fell on November 24 as the release of some hostages in Gaza reduced the geopolitical risk premium ahead of next week\\'s OPEC+ meeting to decide on production cuts in 2024.\\n\\nBrent crude futures settled down 84 cents, or 1%, at $80.58 a barrel, while US West Texas Intermediate crude fell $1.56, or 2%, from November 22\\'s close to $75.54. There was no settlement for WTI on November 23 owing to the US Thanksgiving holiday. Brent settled 3 cents lower on the week while WTI fell 35 cents from last November 24\\'s settlement.\\n\\nStory continues below Advertisement\\n\\nRemove Ad\\n\\nThe first group of hostages freed from captivity in Gaza returned to Israel on November 24, on the first day of a planned four-day truce during which further exchanges of hostages for Palestinian detainees are due to take place.\\n\\n\"The fact that they followed through was significant for reducing the risk premium,\" said John Kilduff, partner at Again Capital LLC in New York.\\n\\nBoth contracts had their first weekly gain in five weeks as OPEC+ prepares for a meeting that will have output cuts high on the agenda after recent oil price declines on demand concerns and burgeoning supply, particularly from non-OPEC producers.\\n\\nRelated stories\\n\\nWhy the OPEC may soon lose its significance\\n\\nShort Call: Largecaps in vogue, oil stocks strike gold, hotels see brisk business, Adani Ports sails...\\n\\nOil falls on demand fears and doubts over OPEC+ cuts\\n\\nThe OPEC+ group, comprising of the Organization of the Petroleum Exporting Countries and allies including Russia, surprised the market on Wednesday by delaying its Nov. 26 to Nov. 30 after producers struggled to reach a consensus on output levels.\\n\\nOPEC+ has moved closer to a compromise with African oil producers on 2024 output levels, three OPEC+ sources have told Reuters.\\n\\n\"The most likely outcome now appears to be an extension of existing cuts,\" said IG analyst Tony Sycamore.\\n\\nStory continues below Advertisement\\n\\nRemove Ad\\n\\nThe surprise delay had initially brought Brent futures down as much as 4% and WTI by as much as 5% in intraday trading on November 22. Trading remained subdued during November 23\\'s US holiday.\\n\\n\"While I wouldn\\'t be entirely surprised to see leaks or comments over the weekend that still have an impact on the oil price on the open next week, the actual meeting now occurring Thursday could put traders\\' minds somewhat at ease,\" said Craig Erlam, senior market analyst at OANDA.\\n\\nA bright spot came in the form of the near-term economic outlook in China. Recent Chinese data and fresh aid to the indebted property sector can be \"positive for the oil market\\'s near-term trend\", said CMC Markets analyst Tina Teng.\\n\\nYet those gains could be capped by higher U.S. crude stockpiles and poor refining margins, leading to weaker demand from U.S. refineries, analysts said.\\n\\n\"Fundamentals developments have been bearish with rising U.S. oil inventories,\" ANZ analysts said in a note.\\n\\nStill, China\\'s longer-term outlook remains lukewarm. Analysts say oil demand growth could weaken to about 4% in the first half of 2024 as the property sector crunch weighs on diesel use.\\n\\nNon-OPEC production growth is set to remain strong, with Brazilian state energy company Petrobras planning to invest $102 billion over the next five years to boost output to 3.2 million barrels of oil equivalent per day (boepd) by 2028, up from 2.8 million boepd in 2024.\\n\\nReuters\\n\\nTags:\\n\\n#Brent crude futures\\n\\n#oil\\n\\n#OPEC (Organisation of the Petroleum Exporting Countries)\\n\\nfirst published: Nov 27, 2023 09:19 pm\\n\\nGet ₹100 cashback on checking your free Credit Score on Moneycontrol. Gain valuable financial insights in just two clicks! Click here\\n\\nAdvertisement\\n\\nRemove Ad\\n\\nTrending news\\n\\nNifty ETF ad at Korea railway station catches NSE CEO\\'s attention\\n\\nJwala Gutta, rescued along with Aamir Khan from Chennai floods, thanks relief teams: \\'Huge respect\\'\\n\\nAR Rahman urges people to contribute to Chennai flood relief efforts. \\'Let\\'s stand together in support\\'\\n\\nDelhi Metro’s decision to air audio ads inside trains gets backlash: ‘annoying for passengers’\\n\\nWoman dies in shark attack day after wedding\\n\\nForum\\n\\nFacebook\\n\\nTwitter\\n\\nInstagram\\n\\nLinkedin\\n\\nRSS\\n\\nPortfolio\\n\\nMarkets\\n\\nWatchlist\\n\\nLive TV Show\\n\\nCurrencies\\n\\nCredit Score₹100 Cashback\\n\\nCommodities\\n\\nFixed Income\\n\\nPersonal Finance\\n\\nMutual Fund\\n\\nPre-Market\\n\\nIPO\\n\\nGlobal Market\\n\\nBudget 2023\\n\\nGold Rate\\n\\nBSE Sensex\\n\\nForum\\n\\nMC 30\\n\\nNews\\n\\nBusiness\\n\\nMarkets\\n\\nStocks\\n\\nEconomy\\n\\nMutual Funds\\n\\nPersonal Finance\\n\\nIPO News\\n\\nStartups\\n\\nElection 2023\\n\\nElections 2023 in Hindi\\n\\nStocks:\\n\\nA |\\n\\nB |\\n\\nC |\\n\\nD |\\n\\nE |\\n\\nF |\\n\\nG |\\n\\nH |\\n\\nI |\\n\\nJ |\\n\\nK |\\n\\nL |\\n\\nM |\\n\\nN |\\n\\nO |\\n\\nP |\\n\\nQ |\\n\\nR |\\n\\nS |\\n\\nT |\\n\\nU |\\n\\nV |\\n\\nW |\\n\\nX |\\n\\nY |\\n\\nZ |\\n\\nOthers\\n\\nMutual Funds:\\n\\nA \\r\\n             |\\n\\nB \\r\\n             |\\n\\nC \\r\\n             |\\n\\nD \\r\\n             |\\n\\nE \\r\\n             |\\n\\nF \\r\\n             |\\n\\nG \\r\\n             |\\n\\nH \\r\\n             |\\n\\nI \\r\\n             |\\n\\nJ \\r\\n             |\\n\\nK \\r\\n             |\\n\\nL \\r\\n             |\\n\\nM \\r\\n             |\\n\\nN \\r\\n             |\\n\\nO \\r\\n             |\\n\\nP \\r\\n             |\\n\\nQ \\r\\n             |\\n\\nR \\r\\n             |\\n\\nS \\r\\n             |\\n\\nT \\r\\n             |\\n\\nU \\r\\n             |\\n\\nV \\r\\n             |\\n\\nW \\r\\n             |\\n\\nX \\r\\n             |\\n\\nY \\r\\n             |\\n\\nVisit the App Store to see all our apps:\\n\\nDownload from Google Play\\n\\nDownload from APP Store\\n\\nDownload from Windows Phone\\n\\nTools\\n\\nRetirement Planning\\n\\nEMI Calculator\\n\\nSIP Calculator\\n\\nSIP Planner\\n\\nUseful Links\\n\\nCrypto News\\n\\nBank Holidays in India\\n\\nGold Rate Today\\n\\nSilver Rate Today\\n\\nTrending News\\n\\nStartups\\n\\nNational News\\n\\nMC Videos\\n\\nMC You Tube\\n\\nHouse Purchase Index\\n\\nBest Portfolio Manager\\n\\nSmall Savings Schemes\\n\\nBonds\\n\\nTopperLearning\\n\\nClear Study Doubts\\n\\nEducation Franchisee Opportunity\\n\\nSpecials\\n\\nMaster Your Money\\n\\nGame Changers\\n\\nInvestment Watch\\n\\nPowerYourTrade\\n\\nMoneyBhai\\n\\nFocus\\n\\nSME Step Up\\n\\nNetwork 18 Sites\\n\\nNews18\\n\\nFirstpost\\n\\nCNBC TV18\\n\\nNews18 Hindi\\n\\nCricketnext\\n\\nOverdrive\\n\\nTopper Learning\\n\\nAbout us |\\n\\nContact Us |\\n\\nAdvertise with Us |\\n\\nSupport |\\n\\nDisclaimer |\\n\\nPrivacy Policy |\\n\\nCookie Policy |\\n\\nTerms & Conditions |\\n\\nCareers |\\n\\nFinancial Terms (Glossary) |\\n\\nFAQs |\\n\\nSitemap |\\n\\nRSS Feed\\n\\nCopyright © e-Eighteen.com Ltd. All rights reserved. Reproduction of news articles, photos, videos or any other content in whole or in part in any form \\r\\n        or medium without express writtern permission of moneycontrol.com is prohibited.\\n\\nYou got 30 Day’s Trial of\\n\\nGrab it Now\\n\\nAd-Free Experience\\n\\nTop Articles from Financial Times\\n\\nActionable Insights\\n\\nMC Research\\n\\nEconomic Calendar\\n\\n& Many More\\n\\nYou are already a Moneycontrol Pro user.\\n\\n101Reporters', metadata={'source': 'https://www.moneycontrol.com/news/business/markets/oil-settles-lower-ahead-of-opec-decision-11817711.html'}),\n",
       " Document(page_content='English\\n\\nHindi\\n\\nGujarati\\n\\nSpecials\\n\\nTrending Stocks\\n\\nTata Power\\xa0INE245A01021, TATAPOWER, 500400\\n\\nTata Tech\\xa0INE142M01025, TATATECH, 544028\\n\\nAdani Enterpris\\xa0INE423A01024, ADANIENT, 512599\\n\\nAdani Power\\xa0INE814H01011, ADANIPOWER, 533096\\n\\nSuzlon Energy\\xa0INE040H01021, SUZLON, 532667\\n\\nCheck your Credit Score here!\\n\\nQuotes\\n\\nMutual Funds\\n\\nCommodities\\n\\nFutures & Options\\n\\nCurrency\\n\\nNews\\n\\nCryptocurrency\\n\\nForum\\n\\nNotices\\n\\nVideos\\n\\nGlossary\\n\\nAll\\n\\nHello, LoginHello, LoginLog-inor Sign-UpMy AccountMy Profile My PortfolioMy WatchlistMy Credit Score₹100 CashbackMy FeedMy MessagesMy AlertsMy Profile My PROMy PortfolioMy WatchlistMy Credit Score₹100 CashbackMy FeedMy MessagesMy AlertsLogoutChat with UsDownload AppFollow us on:\\n\\nPremium\\n\\nMy Feed\\n\\nMarketsHOMEINDIAN INDICESSTOCK ACTIONAll StatsTop GainersTop LosersOnly BuyersOnly Sellers52 Week High52 Week LowPrice ShockersVolume ShockersMost Active StocksGLOBAL MARKETSUS MARKETSBIG SHARK PORTFOLIOSSTOCK SCANNERECONOMIC CALENDARMARKET ACTIONDashboardF&OFII & DII ActivityCorporate ActionEARNINGSCOMMODITYPRE MARKETRESEARCHAdviceBroker ResearchTechnicalsCURRENCYWEBINARINTERVIEW SERIESIPOOTHERSBondsCryptocurrencyToolsNewsHOMEPAGEBUSINESSHomeEconomyCompaniesMutual FundsPersonal FinanceIPOStartupsReal EstateSMEGEOGRAPHYIndiaWorldMARKETSHomeStocksTechnical AnalysisEquity ResearchCommodityCurrencyGold RateSilver RateSPECIALTrendsLatest NewsOpinionTECHNOLOGYPersonal TechAutoFintechMEDIAPodcastPhotosInfographicsVideosOTHERSMC LearnPoliticsCricketEntertainmentTravelLifestyleHealth and FitnessEducationScienceBooksMC BuzzMC FeaturesTech/StartupsPortfolioWatchlistCommoditiesMutual FundsEXPLOREHomeFind FundTop Ranked FundsPerformance TrackerSIP Performance TrackerETF PerformanceNFOTop Performing CategoriesLearnTOOLSReturns CalculatorLumpsum SIP BalancerDelay Cost CalculatorSIP ReturnMF FORUMTRACKYour MF InvestmentMF PricesMC 30Personal FinanceEXPLOREHomeInvestingInsuranceBankingFinancial PlanningPropertyToolsVideoAsk ExpertExplainerIncome Tax Filing GuideNPSFIXED DEPOSITFixed Deposit Interest CalculatorCorporate DepositsTAXIncome tax Filing GuideIncome Tax CalculatorEmergency Fund CalculatorLOANS & CREDIT CARDSHomeCar Loan CalculatorHome Loan CalculatorEducation Loan CalculatorCredit Card Debit Payoff CalculatorTOOLSProvident Fund CalculatorAssets Allocation PlanningDebt Reduction PlannerDebt Evaluation CalculatorCurrent Expense CalculatorCredit Score₹100 CashbackREAL ESTATE : TRENDS & ANALYTICSMC 30MONEYCONTROL - SECURENOW HEALTH INSURANCE RATINGSGOLD PRICE TODAYUpcoming Chat | Previous TranscriptsAll Schedule | Previous TranscriptForumEXPLORE FORUMHomepageMembership RulesForum TopicsAsk the ExpertTop BoardersUSER PROFILEFORUM TOPICSLatest ThreadsStocksIndexGoldPersonal FinanceJust PostedMF FORUMPOLLSLatest PollsHistorical PollsMarket SentimentsSUPPORTFAQsCode of ConductFeedbackWrite to usVideosVIDEOSHomepageVideos on DemandMarkets with Santo & CJMorning TradeCommodities chat with Manisha GuptaLet`s Talk JobsThe TenantDrive ReportBajar GupshupBits To BillionsPODCASTHomepagePodcast on DemandThe Week on Dalal StreetMarket MinutesMC Special PodcastSimply SavePolicy TalksLIVE TVHindiGujaratiInvest Now.investNW .sepInvsli a.pdg_btm{ padding-bottom: 46px; }\\n\\t\\t.header_desktop.header1024 .investNW .sepInvsli a.pdg_btm{padding-bottom: 0px;}\\n\\t\\t@media screen and (max-width:1279px) { \\n\\t\\t\\t.investNW .sepInvsli a.pdg_btm{ padding-bottom: 0px; } \\n\\t\\t}Invest in bonds onlinePowered By Invest in high-rated bonds from as low as Rs. 10,000Find & Invest in bonds issued by top corporates, PSU Banks, NBFCs, and much more. Invest as low as 10,000 and earn better returns than FDInvest NowExpert Trading GuidancePowered By Trading Advisories, Courses & Webinars by Top Verified Experts.Unlock Your Trading Potential: Trade like Experts with SEBI registered creators, Learn from Courses & Webinars by India\\'s Finest Finance Experts.Invest NowSubscriptionAMBAREESH BALIGAFundamental, Stock Ideas, Multibaggers & InsightsSubscribeCK NARAYANStock & Index F&O Trading Calls & Market AnalysisSubscribeSUDARSHAN SUKHANITechnical Call, Trading Calls & InsightsSubscribeT GNANASEKARCommodity Trading Calls & Market AnalysisSubscribeMECKLAI FINANCIALSCurrency Derivatives Trading Calls & InsightsSubscribeSHUBHAM AGARWALOptions Trading Advice and Market AnalysisSubscribeMARKET SMITH INDIAModel portfolios, Investment Ideas, Guru Screens and Much MoreSubscribeTraderSmithProprietary system driven Rule Based Trading callsSubscribeCurated markets data, exclusive trading recommendations, Independent equity analysis & actionable investment ideasSubscribeCurated markets data, exclusive trading recommendations, Independent equity analysis & actionable investment ideasExploreSTOCK REPORTS BY THOMSON REUTERSDetails stock report and investment recommendationSubscribePOWER YOUR TRADETechnical and Commodity CallsSubscribeINVESTMENT WATCHSet price, volume and news alertsSubscribeGo Ad-Free BusinessMarketsStocksEconomyCompaniesTrendsIPOOpinionEV Special\\n\\n>->MC_ENG_DESKTOP/MC_ENG_LIVEBLOG/MC_ENG_LIVEBLOG_AS/MC_ENG_ROS_LIVBLG_AS_ATF_728\\n\\nGo PRO @₹99\\n\\nPRO\\n\\nAdvertisement\\n\\nRemove Ad\\n\\n\\n\\nMarketsHOMEINDIAN INDICESSTOCK ACTIONAll StatsTop GainersTop LosersOnly BuyersOnly Sellers52 Week High52 Week LowPrice ShockersVolume ShockersMost Active StocksGLOBAL MARKETSUS MARKETSBIG SHARK PORTFOLIOSSTOCK SCANNERECONOMIC CALENDARMARKET ACTIONDashboardF&OFII & DII ActivityCorporate ActionEARNINGSCOMMODITYPRE MARKETRESEARCHAdviceBroker ResearchTechnicalsCURRENCYWEBINARINTERVIEW SERIESIPOOTHERSBondsCryptocurrencyTools\\n\\nNewsHOMEPAGEBUSINESSHomeEconomyCompaniesMutual FundsPersonal FinanceIPOStartupsReal EstateSMEGEOGRAPHYIndiaWorldMARKETSHomeStocksTechnical AnalysisEquity ResearchCommodityCurrencyGold RateSilver RateSPECIALTrendsLatest NewsOpinionTECHNOLOGYPersonal TechAutoFintechMEDIAPodcastPhotosInfographicsVideosOTHERSMC LearnPoliticsCricketEntertainmentTravelLifestyleHealth and FitnessEducationScienceBooksMC BuzzMC Features\\n\\nTech/Startups\\n\\nPortfolio\\n\\nWatchlist\\n\\nCommodities\\n\\nMutual FundsEXPLOREHomeFind FundTop Ranked FundsPerformance TrackerSIP Performance TrackerETF PerformanceNFOTop Performing CategoriesLearnTOOLSReturns CalculatorLumpsum SIP BalancerDelay Cost CalculatorSIP ReturnMF FORUMTRACKYour MF InvestmentMF PricesMC 30\\n\\nPersonal FinanceEXPLOREHomeInvestingInsuranceBankingFinancial PlanningPropertyToolsVideoAsk ExpertExplainerIncome Tax Filing GuideNPSFIXED DEPOSITFixed Deposit Interest CalculatorCorporate DepositsTAXIncome tax Filing GuideIncome Tax CalculatorEmergency Fund CalculatorLOANS & CREDIT CARDSHomeCar Loan CalculatorHome Loan CalculatorEducation Loan CalculatorCredit Card Debit Payoff CalculatorTOOLSProvident Fund CalculatorAssets Allocation PlanningDebt Reduction PlannerDebt Evaluation CalculatorCurrent Expense CalculatorCredit Score₹100 CashbackREAL ESTATE : TRENDS & ANALYTICSMC 30MONEYCONTROL - SECURENOW HEALTH INSURANCE RATINGSGOLD PRICE TODAYUpcoming Chat | Previous TranscriptsAll Schedule | Previous Transcript\\n\\nForumEXPLORE FORUMHomepageMembership RulesForum TopicsAsk the ExpertTop BoardersUSER PROFILEFORUM TOPICSLatest ThreadsStocksIndexGoldPersonal FinanceJust PostedMF FORUMPOLLSLatest PollsHistorical PollsMarket SentimentsSUPPORTFAQsCode of ConductFeedbackWrite to us\\n\\nVideosVIDEOSHomepageVideos on DemandMarkets with Santo & CJMorning TradeCommodities chat with Manisha GuptaLet`s Talk JobsThe TenantDrive ReportBajar GupshupBits To BillionsPODCASTHomepagePodcast on DemandThe Week on Dalal StreetMarket MinutesMC Special PodcastSimply SavePolicy TalksLIVE TVHindiGujarati\\n\\nInvest Now.investNW .sepInvsli a.pdg_btm{ padding-bottom: 46px; }\\n\\t\\t.header_desktop.header1024 .investNW .sepInvsli a.pdg_btm{padding-bottom: 0px;}\\n\\t\\t@media screen and (max-width:1279px) { \\n\\t\\t\\t.investNW .sepInvsli a.pdg_btm{ padding-bottom: 0px; } \\n\\t\\t}Invest in bonds onlinePowered By Invest in high-rated bonds from as low as Rs. 10,000Find & Invest in bonds issued by top corporates, PSU Banks, NBFCs, and much more. Invest as low as 10,000 and earn better returns than FDInvest NowExpert Trading GuidancePowered By Trading Advisories, Courses & Webinars by Top Verified Experts.Unlock Your Trading Potential: Trade like Experts with SEBI registered creators, Learn from Courses & Webinars by India\\'s Finest Finance Experts.Invest Now\\n\\nSubscriptionAMBAREESH BALIGAFundamental, Stock Ideas, Multibaggers & InsightsSubscribeCK NARAYANStock & Index F&O Trading Calls & Market AnalysisSubscribeSUDARSHAN SUKHANITechnical Call, Trading Calls & InsightsSubscribeT GNANASEKARCommodity Trading Calls & Market AnalysisSubscribeMECKLAI FINANCIALSCurrency Derivatives Trading Calls & InsightsSubscribeSHUBHAM AGARWALOptions Trading Advice and Market AnalysisSubscribeMARKET SMITH INDIAModel portfolios, Investment Ideas, Guru Screens and Much MoreSubscribeTraderSmithProprietary system driven Rule Based Trading callsSubscribeCurated markets data, exclusive trading recommendations, Independent equity analysis & actionable investment ideasSubscribeCurated markets data, exclusive trading recommendations, Independent equity analysis & actionable investment ideasExploreSTOCK REPORTS BY THOMSON REUTERSDetails stock report and investment recommendationSubscribePOWER YOUR TRADETechnical and Commodity CallsSubscribeINVESTMENT WATCHSet price, volume and news alertsSubscribe\\n\\nGo Ad-Free\\n\\nBusiness\\n\\nMarkets\\n\\nStocks\\n\\nEconomy\\n\\nCompanies\\n\\nTrends\\n\\nIPO\\n\\nOpinion\\n\\nEV Special\\n\\nHome\\n\\nNews\\n\\nIndia\\n\\nLive now\\n          \\n\\nauto refresh \\n          \\n\\nDec 06, 2023 / 04:09 pm\\n\\nCyclone Michaung LIVE Updates: Andhra Pradesh CM directs officials to carry out relief work in a compassionate manner\\n\\nCyclone Michaung LIVE Updates: Andhra Pradesh Chief Minister Y S Jagan Mohan Reddy directed Collectors of districts affected by the severe cyclonic storm \\'Michaung\\' and superintendents of police to work towards restoring normalcy in a compassionate manner.\\n\\n\\n\\n\\n\\n\\n\\n\\n\\n\\n\\n\\n\\nCyclone Michaung LIVE Updates: Individuals accompanied by a dog are seen sitting on an improvised raft while being relocated from a submerged area in Chennai due to heavy rains following the landfall of Cyclone Michaung. The streets of the city were inundated with chest-high water on December 5, resulting in eight casualties amid severe flooding caused by the cyclone hitting the southeast coast. (Image: AFP)                                            \\n               Moneycontrol.com\\n\\nDecember 06, 2023 / 04:09 PM IST\\n                                                                          Aviation News LIVE: Airline industry is projected to register a net profit of\\xa0$25.7 billion in 2024\\xa0                                                                                                                                            \\n                                                            The airline industry is projected to register a net profit of $25.7 billion in 2024 as more normal growth is expected in both passenger and cargo segments, global grouping IATA said.\\n\\nDecember 06, 2023 / 03:59 PM IST\\n                                                                          Cyclone Michaung LIVE Updates: Heavy rainfall in parts of Tamil Nadu                                                                                                                                            \\n                                                            - The cyclone-triggered heavy rainfall had led to inundation in localities including Velachery and Tambaram.    - On Wednesday too, people were seen leaving their homes in the areas surrounded with water to safer zones, carrying their children and wading through the stagnant water. They called for help, including pressing more boats to ferry people to higher ground.    - Chief Minister M K Stalin visited some of the affected areas and distributed food and essential commodities to people put up at a relief centre in the city. He inspected activities undertaken by the city civic body to drain water.\\n\\nADVERTISEMENT                      AdvertisementRemove AdAdvertisementRemove Ad                      AdvertisementRemove Ad\\n\\nDecember 06, 2023 / 03:45 PM IST\\n                                                                          News LIVE Updates: Karnataka sees 86 per cent increase in crimes against senior citizens from 2020-2022, says NCRB                                                                                                                                            \\n                                                                  - Crimes against senior citizens in Karnataka increased by 86 per cent from 2020 to 2022, latest data released by the National Crime Records Bureau a few days ago showed.    - According to the data, the number of such cases increased from 853 in 2020 to 1,583 in 2022. The corresponding figure in 2021 was 1,442. Many of the senior citizens were victims of forgery, cheating and theft, the report said.\\n\\nDecember 06, 2023 / 03:36 PM IST\\n                                                                          Cyclone Michaung LIVE Updates: Parts of Chennai suffer from inundation, relief work expedited                                                                                                                                            \\n                                                            - Residents grappled with stagnant water and power disruption in parts of the city and its suburbs on Wednesday, two days after Cyclone \\'Michuang\\' wreaked havoc in the metropolis and neighbouring districts, even as civic agency personnel were involved in relief and rehabilitation efforts.    - The government said power was kept suspended in some areas as a \"preventive measures\" as the cables were under water, while asserting all efforts were being taken to restore normalcy.\\n\\nDecember 06, 2023 / 03:26 PM IST\\n                                                                          Cyclone Michaung LIVE Updates: AP CM directs officials to carry out relief work in a compassionate manner                                                                                                                                            \\n                                                            - Andhra Pradesh Chief Minister Y S Jagan Mohan Reddy on Wednesday directed Collectors of districts affected by the severe cyclonic storm \\'Michaung\\' and superintendents of police to work towards restoring normalcy in a compassionate manner.    - The Chief Minister issued the guidelines during a review meeting from his camp office on the relief measures.    - \"The cyclone has now weakened and all the authorities should focus on bringing normalcy in your respective areas. Be sympathetic to the affected people, put yourselves in their shoes and work on their needs,\" Reddy said in a statement.\\n\\nADVERTISEMENT                      AdvertisementRemove AdAdvertisementRemove Ad                      AdvertisementRemove Ad\\n\\nDecember 06, 2023 / 03:16 PM IST\\n                                                                          Uttarakhand Global Investors Summit 2023 LIVE: PM Modi to inaugrate summit                                                                                                                                            \\n                                                                  - PM Modi will visit Dehradun, Uttarakhand on 8th December to inaugurate the ‘Uttarakhand Global Investors Summit 2023’ being held at Forest Research Institute, Dehradun. Prime Minister will also deliver an address at the event\\n\\nDecember 06, 2023 / 03:11 PM IST\\n                                                                          Parliament Winter Session 2023 LIVE: Govt to take serious note of any report about dumping of lithium-ion battery waste, says Nitin Gadkari                                                                                                                                            \\n                                                                  - The government will take serious note of any report about ill effects of dumping lithium-ion battery waste on the environment and is promoting circular economy for recycling of various waste materials, Road Transport and Highways Minister Nitin Gadkari told Rajya Sabha on Wednesday.    - The issue of ill effect of lithium-ion battery waste dumping and on workers in manufacturing units of this storage system was raised by Congress member Ranjeet Ranjan during the question hour in the Rajya Sabha.\\n\\nDecember 06, 2023 / 02:59 PM IST\\n                                                                          Parliament Winter Session 2023 LIVE: Over 28,600 PACS operating as PMKSKs presently                                                                                                                                            \\n                                                            - Over 28,600 Primary Agriculture Credit Societies (PACS) in 18 states and Union territories are operating as the Pradhan Mantri Kisan Samriddhi Kendras (PMKSKs) in the country at present, Parliament was informed on Wednesday.    - \"As per report, in 18 States/UTs, 28,648 PACS are currently operating as PMKSKs in the country,\" Cooperation Minister Amit Shah said in a written reply to the Rajya Sabha.\\n\\nDecember 06, 2023 / 02:48 PM IST\\n                                                                          Cow urine remark row news updates: Tamil Nadu BJP chief comments                                                                                                                                            \\n                                                            - In response to the \\'Gaumutra\\' remark made by DMK MP DNV Senthilkumar (now expunged), Tamil Nadu BJP chief K Annamalai states, \" If such words are said by mistake then apology can be accepted but if the words are said because of a deep sense of insecurity...then nobody is going to accept the apology...the words uttered by the DMK MP...it came from a deep sense of seeing India the wrong way, it came from deep sense of their faulty ideology...he is a repeated offender...DMK\\'s theory is similar to Hitler\\'s theory...this theory has to be nipped in the bud...politically, DMK should be thrown out of Tamil Nadu...\"\\n\\nDecember 06, 2023 / 02:43 PM IST\\n                                                                          Parliament News Updates: New faces for BJP CMs                                                                                                                                            \\n                                                            - Sources indicate that the BJP plans to assign the role of Chief Minister to fresh faces in Rajasthan, Madhya Pradesh, and Chhattisgarh, states where recent assembly elections took place.\\n\\nADVERTISEMENT                      AdvertisementRemove AdAdvertisementRemove Ad                      AdvertisementRemove Ad\\n\\nDecember 06, 2023 / 02:17 PM IST\\n                                                                          Israel-Hamas War Live Updates: UN hears account of alleged sexual violence during October 7 attack                                                                                                                                            \\n                                                            - During a meeting hosted by Israel, the UN received reports of purported sexual violence during Hamas\\'s October 7 attack.  - In attendance were former US Secretary of State Hillary Clinton and top technology executive Sheryl Sandberg, both of whom criticised what they perceived as a global failure to support women who were allegedly sexually assaulted and, in some instances, killed.\\n\\nDecember 06, 2023 / 02:05 PM IST\\n                                                                          Israel-Hamas War Live Updates: Nicaragua denounces Israel\\'s \\'brutal aggression\\' in Gaza\\xa0                                                                                                                                            \\n                                                            - The Nicaraguan government has denounced what it refers to as Israel\\'s \"brutal aggression\" in Gaza and has expressed solidarity by sending its foreign envoy to the occupied West Bank.  - Vice President Rosario Murillo stated that Nicaragua is making this gesture to extend the most fraternal and combative solidarity to the Palestinians on behalf of its people and government.\\n\\nAdvertisement\\n\\nRemove Ad\\n\\nMost Read\\n\\nTop News\\n\\nBengaluru: First electric train service to Nandi Hills from December 11\\n\\nBritish high commissioner calls on Assam CM\\n\\nIFS officer’s golden tips on preparing for UPSC with a full-time job\\n\\nClosing Bell: Record run continues; Nifty around 20,950, Sensex above 69,600\\n\\nNew day, new high as Nifty closes in on 21,000-mark\\n\\nExclusive: PSBs wrote off loans worth Rs 3.66 lakh cr in last 3 years: RTI data\\n\\nGo First lenders nears liquidation; lenders eye up to Rs 3,000 cr from asset sales\\n\\nGovt seeks Parliament nod to spend Rs 14,524 crore more on MGNREGA in FY24\\n\\nView More News\\n\\nVideo of the day\\n\\nBanks Or IT: Which Stocks Should You Buy Now? | Sectors To Watch | IT Stocks | Stock Market\\n\\nAdvertisement\\n\\nRemove Ad\\n\\nForum\\n\\nFacebook\\n\\nTwitter\\n\\nInstagram\\n\\nLinkedin\\n\\nRSS\\n\\nPortfolio\\n\\nMarkets\\n\\nWatchlist\\n\\nLive TV Show\\n\\nCurrencies\\n\\nCredit Score₹100 Cashback\\n\\nCommodities\\n\\nFixed Income\\n\\nPersonal Finance\\n\\nMutual Fund\\n\\nPre-Market\\n\\nIPO\\n\\nGlobal Market\\n\\nBudget 2023\\n\\nGold Rate\\n\\nBSE Sensex\\n\\nForum\\n\\nMC 30\\n\\nNews\\n\\nBusiness\\n\\nMarkets\\n\\nStocks\\n\\nEconomy\\n\\nMutual Funds\\n\\nPersonal Finance\\n\\nIPO News\\n\\nStartups\\n\\nElection 2023\\n\\nElections 2023 in Hindi\\n\\nStocks:\\n\\nA |\\n\\nB |\\n\\nC |\\n\\nD |\\n\\nE |\\n\\nF |\\n\\nG |\\n\\nH |\\n\\nI |\\n\\nJ |\\n\\nK |\\n\\nL |\\n\\nM |\\n\\nN |\\n\\nO |\\n\\nP |\\n\\nQ |\\n\\nR |\\n\\nS |\\n\\nT |\\n\\nU |\\n\\nV |\\n\\nW |\\n\\nX |\\n\\nY |\\n\\nZ |\\n\\nOthers\\n\\nMutual Funds:\\n\\nA \\r\\n             |\\n\\nB \\r\\n             |\\n\\nC \\r\\n             |\\n\\nD \\r\\n             |\\n\\nE \\r\\n             |\\n\\nF \\r\\n             |\\n\\nG \\r\\n             |\\n\\nH \\r\\n             |\\n\\nI \\r\\n             |\\n\\nJ \\r\\n             |\\n\\nK \\r\\n             |\\n\\nL \\r\\n             |\\n\\nM \\r\\n             |\\n\\nN \\r\\n             |\\n\\nO \\r\\n             |\\n\\nP \\r\\n             |\\n\\nQ \\r\\n             |\\n\\nR \\r\\n             |\\n\\nS \\r\\n             |\\n\\nT \\r\\n             |\\n\\nU \\r\\n             |\\n\\nV \\r\\n             |\\n\\nW \\r\\n             |\\n\\nX \\r\\n             |\\n\\nY \\r\\n             |\\n\\nVisit the App Store to see all our apps:\\n\\nDownload from Google Play\\n\\nDownload from APP Store\\n\\nDownload from Windows Phone\\n\\nTools\\n\\nRetirement Planning\\n\\nEMI Calculator\\n\\nSIP Calculator\\n\\nSIP Planner\\n\\nUseful Links\\n\\nCrypto News\\n\\nBank Holidays in India\\n\\nGold Rate Today\\n\\nSilver Rate Today\\n\\nTrending News\\n\\nStartups\\n\\nNational News\\n\\nMC Videos\\n\\nMC You Tube\\n\\nHouse Purchase Index\\n\\nBest Portfolio Manager\\n\\nSmall Savings Schemes\\n\\nBonds\\n\\nTopperLearning\\n\\nClear Study Doubts\\n\\nEducation Franchisee Opportunity\\n\\nSpecials\\n\\nMaster Your Money\\n\\nGame Changers\\n\\nInvestment Watch\\n\\nPowerYourTrade\\n\\nMoneyBhai\\n\\nFocus\\n\\nSME Step Up\\n\\nNetwork 18 Sites\\n\\nNews18\\n\\nFirstpost\\n\\nCNBC TV18\\n\\nNews18 Hindi\\n\\nCricketnext\\n\\nOverdrive\\n\\nTopper Learning\\n\\nAbout us |\\n\\nContact Us |\\n\\nAdvertise with Us |\\n\\nSupport |\\n\\nDisclaimer |\\n\\nPrivacy Policy |\\n\\nCookie Policy |\\n\\nTerms & Conditions |\\n\\nCareers |\\n\\nFinancial Terms (Glossary) |\\n\\nFAQs |\\n\\nSitemap |\\n\\nRSS Feed\\n\\nCopyright © e-Eighteen.com Ltd. All rights reserved. Reproduction of news articles, photos, videos or any other content in whole or in part in any form \\r\\n        or medium without express writtern permission of moneycontrol.com is prohibited.\\n\\nYou got 30 Day’s Trial of\\n\\nGrab it Now\\n\\nAd-Free Experience\\n\\nTop Articles from Financial Times\\n\\nActionable Insights\\n\\nMC Research\\n\\nEconomic Calendar\\n\\n& Many More\\n\\nYou are already a Moneycontrol Pro user.\\n\\nCheck your Credit Score Now!\\n\\nAccess your Detailed Credit Report - absolutely free\\n\\nClick Here\\n\\nNo thanks, I\\'ll Pass!\\n\\nClaim ₹100 Reward Now!\\n\\nClaim ₹100 Reward Now!\\n\\nNo thanks, I\\'ll Pass!\\n\\nDeblina Halder', metadata={'source': 'https://www.moneycontrol.com/news/india/latest-daily-news-live-india-world-cyclone-michaung-chennai-floods-israel-hamas-war-breaking-news-and-updates-liveblog-11860771.html'})]"
      ]
     },
     "execution_count": 3,
     "metadata": {},
     "output_type": "execute_result"
    }
   ],
   "source": [
    "len(data)\n",
    "data"
   ]
  },
  {
   "cell_type": "code",
   "execution_count": 74,
   "metadata": {},
   "outputs": [],
   "source": [
    "text_splitter = RecursiveCharacterTextSplitter(separators='\\n',chunk_size=600,chunk_overlap=100)\n",
    "docs=text_splitter.split_documents(data)"
   ]
  },
  {
   "cell_type": "code",
   "execution_count": 75,
   "metadata": {},
   "outputs": [
    {
     "data": {
      "text/plain": [
       "'English\\n\\nHindi\\n\\nGujarati\\n\\nSpecials\\n\\nTrending Stocks\\n\\nTata Power\\xa0INE245A01021, TATAPOWER, 500400\\n\\nTata Tech\\xa0INE142M01025, TATATECH, 544028\\n\\nAdani Enterpris\\xa0INE423A01024, ADANIENT, 512599\\n\\nAdani Power\\xa0INE814H01011, ADANIPOWER, 533096\\n\\nSuzlon Energy\\xa0INE040H01021, SUZLON, 532667\\n\\nCheck your Credit Score here!\\n\\nQuotes\\n\\nMutual Funds\\n\\nCommodities\\n\\nFutures & Options\\n\\nCurrency\\n\\nNews\\n\\nCryptocurrency\\n\\nForum\\n\\nNotices\\n\\nVideos\\n\\nGlossary\\n\\nAll'"
      ]
     },
     "execution_count": 75,
     "metadata": {},
     "output_type": "execute_result"
    }
   ],
   "source": [
    "docs[0].page_content"
   ]
  },
  {
   "cell_type": "code",
   "execution_count": 76,
   "metadata": {},
   "outputs": [
    {
     "data": {
      "text/plain": [
       "72"
      ]
     },
     "execution_count": 76,
     "metadata": {},
     "output_type": "execute_result"
    }
   ],
   "source": [
    "len(docs)"
   ]
  },
  {
   "cell_type": "code",
   "execution_count": 77,
   "metadata": {},
   "outputs": [
    {
     "data": {
      "text/plain": [
       "Document(page_content='English\\n\\nHindi\\n\\nGujarati\\n\\nSpecials\\n\\nTrending Stocks\\n\\nTata Power\\xa0INE245A01021, TATAPOWER, 500400\\n\\nTata Tech\\xa0INE142M01025, TATATECH, 544028\\n\\nAdani Enterpris\\xa0INE423A01024, ADANIENT, 512599\\n\\nAdani Power\\xa0INE814H01011, ADANIPOWER, 533096\\n\\nSuzlon Energy\\xa0INE040H01021, SUZLON, 532667\\n\\nCheck your Credit Score here!\\n\\nQuotes\\n\\nMutual Funds\\n\\nCommodities\\n\\nFutures & Options\\n\\nCurrency\\n\\nNews\\n\\nCryptocurrency\\n\\nForum\\n\\nNotices\\n\\nVideos\\n\\nGlossary\\n\\nAll', metadata={'source': 'https://www.moneycontrol.com/news/business/markets/oil-settles-lower-ahead-of-opec-decision-11817711.html'})"
      ]
     },
     "execution_count": 77,
     "metadata": {},
     "output_type": "execute_result"
    }
   ],
   "source": [
    "docs[0]"
   ]
  },
  {
   "cell_type": "code",
   "execution_count": 78,
   "metadata": {},
   "outputs": [],
   "source": [
    "model = SentenceTransformer('all-MiniLM-L6-v2')"
   ]
  },
  {
   "cell_type": "code",
   "execution_count": 79,
   "metadata": {},
   "outputs": [],
   "source": [
    "docc=[]\n",
    "metadata=[]\n",
    "for i in range(len(docs)):\n",
    "    docc.append(docs[i].page_content)\n",
    "    metadata.append(docs[i].metadata)"
   ]
  },
  {
   "cell_type": "code",
   "execution_count": 80,
   "metadata": {},
   "outputs": [
    {
     "data": {
      "text/plain": [
       "'English\\n\\nHindi\\n\\nGujarati\\n\\nSpecials\\n\\nTrending Stocks\\n\\nTata Power\\xa0INE245A01021, TATAPOWER, 500400\\n\\nTata Tech\\xa0INE142M01025, TATATECH, 544028\\n\\nAdani Enterpris\\xa0INE423A01024, ADANIENT, 512599\\n\\nAdani Power\\xa0INE814H01011, ADANIPOWER, 533096\\n\\nSuzlon Energy\\xa0INE040H01021, SUZLON, 532667\\n\\nCheck your Credit Score here!\\n\\nQuotes\\n\\nMutual Funds\\n\\nCommodities\\n\\nFutures & Options\\n\\nCurrency\\n\\nNews\\n\\nCryptocurrency\\n\\nForum\\n\\nNotices\\n\\nVideos\\n\\nGlossary\\n\\nAll'"
      ]
     },
     "execution_count": 80,
     "metadata": {},
     "output_type": "execute_result"
    }
   ],
   "source": [
    "docc[0]"
   ]
  },
  {
   "cell_type": "code",
   "execution_count": 81,
   "metadata": {},
   "outputs": [
    {
     "data": {
      "text/plain": [
       "72"
      ]
     },
     "execution_count": 81,
     "metadata": {},
     "output_type": "execute_result"
    }
   ],
   "source": [
    "len(docc)"
   ]
  },
  {
   "cell_type": "code",
   "execution_count": 82,
   "metadata": {},
   "outputs": [],
   "source": [
    "embed=model.encode(docc)\n"
   ]
  },
  {
   "cell_type": "code",
   "execution_count": 83,
   "metadata": {},
   "outputs": [
    {
     "data": {
      "text/plain": [
       "(72, 384)"
      ]
     },
     "execution_count": 83,
     "metadata": {},
     "output_type": "execute_result"
    }
   ],
   "source": [
    "embed.shape"
   ]
  },
  {
   "cell_type": "code",
   "execution_count": 84,
   "metadata": {},
   "outputs": [
    {
     "data": {
      "text/plain": [
       "array([[-0.04559365, -0.04320773, -0.01070832, ..., -0.0596501 ,\n",
       "        -0.018511  ,  0.03580607],\n",
       "       [ 0.00906429, -0.05552485, -0.04326926, ..., -0.07795523,\n",
       "        -0.01954194,  0.004394  ],\n",
       "       [-0.0071351 , -0.12457193, -0.04446675, ..., -0.10183839,\n",
       "        -0.0374945 ,  0.03162408],\n",
       "       ...,\n",
       "       [ 0.02363555, -0.03707378, -0.02414387, ..., -0.11114004,\n",
       "        -0.04511818,  0.01270786],\n",
       "       [-0.04267276, -0.02061785, -0.03832038, ..., -0.14835574,\n",
       "        -0.02671496,  0.04385377],\n",
       "       [-0.08037231, -0.05018852, -0.04718344, ..., -0.10585004,\n",
       "        -0.0567027 ,  0.02616674]], dtype=float32)"
      ]
     },
     "execution_count": 84,
     "metadata": {},
     "output_type": "execute_result"
    }
   ],
   "source": [
    "embed"
   ]
  },
  {
   "cell_type": "code",
   "execution_count": 85,
   "metadata": {},
   "outputs": [
    {
     "data": {
      "text/plain": [
       "384"
      ]
     },
     "execution_count": 85,
     "metadata": {},
     "output_type": "execute_result"
    }
   ],
   "source": [
    "dim=embed.shape[1]\n",
    "dim"
   ]
  },
  {
   "cell_type": "code",
   "execution_count": 86,
   "metadata": {},
   "outputs": [
    {
     "data": {
      "text/plain": [
       "<faiss.swigfaiss.IndexFlatL2; proxy of <Swig Object of type 'faiss::IndexFlatL2 *' at 0x000001C5A5387CC0> >"
      ]
     },
     "execution_count": 86,
     "metadata": {},
     "output_type": "execute_result"
    }
   ],
   "source": [
    "index=faiss.IndexFlatL2(dim)\n",
    "index"
   ]
  },
  {
   "cell_type": "code",
   "execution_count": 87,
   "metadata": {},
   "outputs": [],
   "source": [
    "index.add(embed)"
   ]
  },
  {
   "cell_type": "code",
   "execution_count": 88,
   "metadata": {},
   "outputs": [
    {
     "data": {
      "text/plain": [
       "<faiss.swigfaiss.IndexFlatL2; proxy of <Swig Object of type 'faiss::IndexFlatL2 *' at 0x000001C5A5387CC0> >"
      ]
     },
     "execution_count": 88,
     "metadata": {},
     "output_type": "execute_result"
    }
   ],
   "source": [
    "index"
   ]
  },
  {
   "cell_type": "code",
   "execution_count": 89,
   "metadata": {},
   "outputs": [],
   "source": [
    "#saving in local\n",
    "index_filename = 'index_flat_l2.index'\n",
    "faiss.write_index(index, index_filename)"
   ]
  },
  {
   "cell_type": "code",
   "execution_count": 90,
   "metadata": {},
   "outputs": [],
   "source": [
    "#reading from local\n",
    "index_filename = 'index_flat_l2.index'\n",
    "loaded_index = faiss.read_index(index_filename)"
   ]
  },
  {
   "cell_type": "code",
   "execution_count": 91,
   "metadata": {},
   "outputs": [
    {
     "data": {
      "text/plain": [
       "<faiss.swigfaiss.IndexFlat; proxy of <Swig Object of type 'faiss::IndexFlat *' at 0x000001C5A8100030> >"
      ]
     },
     "execution_count": 91,
     "metadata": {},
     "output_type": "execute_result"
    }
   ],
   "source": [
    "loaded_index"
   ]
  },
  {
   "cell_type": "code",
   "execution_count": 108,
   "metadata": {},
   "outputs": [],
   "source": [
    "search_query=\"tell about hostages of gaza and cyclone in India\"\n",
    "search_index=model.encode(search_query)\n",
    "search_index=search_index.reshape(1,-1)"
   ]
  },
  {
   "cell_type": "code",
   "execution_count": 109,
   "metadata": {},
   "outputs": [
    {
     "data": {
      "text/plain": [
       "(1, 384)"
      ]
     },
     "execution_count": 109,
     "metadata": {},
     "output_type": "execute_result"
    }
   ],
   "source": [
    "search_index.shape"
   ]
  },
  {
   "cell_type": "code",
   "execution_count": 110,
   "metadata": {},
   "outputs": [],
   "source": [
    "dist,I=loaded_index.search(search_index,k=5)"
   ]
  },
  {
   "cell_type": "code",
   "execution_count": 111,
   "metadata": {},
   "outputs": [
    {
     "data": {
      "text/plain": [
       "array([[16, 63, 64, 45, 61]], dtype=int64)"
      ]
     },
     "execution_count": 111,
     "metadata": {},
     "output_type": "execute_result"
    }
   ],
   "source": [
    "I"
   ]
  },
  {
   "cell_type": "code",
   "execution_count": 112,
   "metadata": {},
   "outputs": [
    {
     "name": "stdout",
     "output_type": "stream",
     "text": [
      "Result by semantic search of faiss : \n",
      "\n",
      "1 .\n",
      "Story continues below Advertisement\n",
      "\n",
      "Remove Ad\n",
      "\n",
      "The first group of hostages freed from captivity in Gaza returned to Israel on November 24, on the first day of a planned four-day truce during which further exchanges of hostages for Palestinian detainees are due to take place.\n",
      "\n",
      "\"The fact that they followed through was significant for reducing the risk premium,\" said John Kilduff, partner at Again Capital LLC in New York.\n",
      "\n",
      "{'source': 'https://www.moneycontrol.com/news/business/markets/oil-settles-lower-ahead-of-opec-decision-11817711.html'}\n",
      "2 .\n",
      "December 06, 2023 / 02:05 PM IST\n",
      "                                                                          Israel-Hamas War Live Updates: Nicaragua denounces Israel's 'brutal aggression' in Gaza\n",
      "\n",
      "{'source': 'https://www.moneycontrol.com/news/india/latest-daily-news-live-india-world-cyclone-michaung-chennai-floods-israel-hamas-war-breaking-news-and-updates-liveblog-11860771.html'}\n",
      "3 .\n",
      "- The Nicaraguan government has denounced what it refers to as Israel's \"brutal aggression\" in Gaza and has expressed solidarity by sending its foreign envoy to the occupied West Bank.  - Vice President Rosario Murillo stated that Nicaragua is making this gesture to extend the most fraternal and combative solidarity to the Palestinians on behalf of its people and government.\n",
      "\n",
      "Advertisement\n",
      "\n",
      "Remove Ad\n",
      "\n",
      "Most Read\n",
      "\n",
      "Top News\n",
      "\n",
      "Bengaluru: First electric train service to Nandi Hills from December 11\n",
      "\n",
      "{'source': 'https://www.moneycontrol.com/news/india/latest-daily-news-live-india-world-cyclone-michaung-chennai-floods-israel-hamas-war-breaking-news-and-updates-liveblog-11860771.html'}\n",
      "4 .\n",
      "\n",
      "                                                            - The cyclone-triggered heavy rainfall had led to inundation in localities including Velachery and Tambaram.    - On Wednesday too, people were seen leaving their homes in the areas surrounded with water to safer zones, carrying their children and wading through the stagnant water. They called for help, including pressing more boats to ferry people to higher ground.    - Chief Minister M K Stalin visited some of the affected areas and distributed food and essential commodities to people put up at a relief centre in the city. He inspected activities undertaken by the city civic body to drain water.\n",
      "\n",
      "{'source': 'https://www.moneycontrol.com/news/india/latest-daily-news-live-india-world-cyclone-michaung-chennai-floods-israel-hamas-war-breaking-news-and-updates-liveblog-11860771.html'}\n",
      "5 .\n",
      "ADVERTISEMENT                      AdvertisementRemove AdAdvertisementRemove Ad                      AdvertisementRemove Ad\n",
      "\n",
      "December 06, 2023 / 02:17 PM IST\n",
      "                                                                          Israel-Hamas War Live Updates: UN hears account of alleged sexual violence during October 7 attack\n",
      "\n",
      "{'source': 'https://www.moneycontrol.com/news/india/latest-daily-news-live-india-world-cyclone-michaung-chennai-floods-israel-hamas-war-breaking-news-and-updates-liveblog-11860771.html'}\n"
     ]
    }
   ],
   "source": [
    "print(\"Result by semantic search of faiss : \")\n",
    "print()\n",
    "for counter,ind in enumerate(I[0]):\n",
    "    print(counter+1,\".\")\n",
    "    print(docc[ind])\n",
    "    print()\n",
    "    print(metadata[ind])"
   ]
  },
  {
   "cell_type": "code",
   "execution_count": 113,
   "metadata": {},
   "outputs": [],
   "source": [
    "from langchain.chains import LLMChain\n",
    "from langchain.prompts import PromptTemplate"
   ]
  },
  {
   "cell_type": "code",
   "execution_count": 123,
   "metadata": {},
   "outputs": [
    {
     "data": {
      "text/plain": [
       "['context', 'question']"
      ]
     },
     "execution_count": 123,
     "metadata": {},
     "output_type": "execute_result"
    }
   ],
   "source": [
    "prompt_template = \"\"\" Answer in very detail and Use the following pieces of context to answer the question at the end. If you don't know the answer, just say that you don't know, don't try to make up an answer.\n",
    "{context}\n",
    "Question: {question}\n",
    "Answer:\"\"\"\n",
    "prompt = PromptTemplate(template=prompt_template, input_variables=[\"context\", \"question\"])\n",
    "prompt.input_variables\n"
   ]
  },
  {
   "cell_type": "code",
   "execution_count": 124,
   "metadata": {},
   "outputs": [
    {
     "data": {
      "text/plain": [
       "('Story continues below Advertisement\\n\\nRemove Ad\\n\\nThe first group of hostages freed from captivity in Gaza returned to Israel on November 24, on the first day of a planned four-day truce during which further exchanges of hostages for Palestinian detainees are due to take place.\\n\\n\"The fact that they followed through was significant for reducing the risk premium,\" said John Kilduff, partner at Again Capital LLC in New York.December 06, 2023 / 02:05 PM IST\\n                                                                          Israel-Hamas War Live Updates: Nicaragua denounces Israel\\'s \\'brutal aggression\\' in Gaza- The Nicaraguan government has denounced what it refers to as Israel\\'s \"brutal aggression\" in Gaza and has expressed solidarity by sending its foreign envoy to the occupied West Bank.  - Vice President Rosario Murillo stated that Nicaragua is making this gesture to extend the most fraternal and combative solidarity to the Palestinians on behalf of its people and government.\\n\\nAdvertisement\\n\\nRemove Ad\\n\\nMost Read\\n\\nTop News\\n\\nBengaluru: First electric train service to Nandi Hills from December 11\\n                                                            - The cyclone-triggered heavy rainfall had led to inundation in localities including Velachery and Tambaram.    - On Wednesday too, people were seen leaving their homes in the areas surrounded with water to safer zones, carrying their children and wading through the stagnant water. They called for help, including pressing more boats to ferry people to higher ground.    - Chief Minister M K Stalin visited some of the affected areas and distributed food and essential commodities to people put up at a relief centre in the city. He inspected activities undertaken by the city civic body to drain water.ADVERTISEMENT                      AdvertisementRemove AdAdvertisementRemove Ad                      AdvertisementRemove Ad\\n\\nDecember 06, 2023 / 02:17 PM IST\\n                                                                          Israel-Hamas War Live Updates: UN hears account of alleged sexual violence during October 7 attack',\n",
       " ['https://www.moneycontrol.com/news/business/markets/oil-settles-lower-ahead-of-opec-decision-11817711.html',\n",
       "  'https://www.moneycontrol.com/news/india/latest-daily-news-live-india-world-cyclone-michaung-chennai-floods-israel-hamas-war-breaking-news-and-updates-liveblog-11860771.html'])"
      ]
     },
     "execution_count": 124,
     "metadata": {},
     "output_type": "execute_result"
    }
   ],
   "source": [
    "result_context=\"\"\n",
    "source=[]\n",
    "\n",
    "for counter,ind in enumerate(I[0]):\n",
    "    result_context+=docc[ind]\n",
    "    if metadata[ind]['source'] not in  source:\n",
    "        source.append(metadata[ind]['source'])\n",
    "result_context,source"
   ]
  },
  {
   "cell_type": "code",
   "execution_count": 125,
   "metadata": {},
   "outputs": [],
   "source": [
    "import dotenv\n",
    "import os\n",
    "from langchain import OpenAI\n",
    "dotenv.load_dotenv()\n",
    "\n",
    "OPENAI_API_KEY=os.getenv(\"OPENAI_API_KEY\")\n",
    "llm=OpenAI(temperature=0.7,)\n"
   ]
  },
  {
   "cell_type": "code",
   "execution_count": 126,
   "metadata": {},
   "outputs": [],
   "source": [
    "query_llm=LLMChain(llm=llm,prompt=prompt)\n"
   ]
  },
  {
   "cell_type": "code",
   "execution_count": 127,
   "metadata": {},
   "outputs": [
    {
     "data": {
      "text/plain": [
       "'Story continues below Advertisement\\n\\nRemove Ad\\n\\nThe first group of hostages freed from captivity in Gaza returned to Israel on November 24, on the first day of a planned four-day truce during which further exchanges of hostages for Palestinian detainees are due to take place.\\n\\n\"The fact that they followed through was significant for reducing the risk premium,\" said John Kilduff, partner at Again Capital LLC in New York.December 06, 2023 / 02:05 PM IST\\n                                                                          Israel-Hamas War Live Updates: Nicaragua denounces Israel\\'s \\'brutal aggression\\' in Gaza- The Nicaraguan government has denounced what it refers to as Israel\\'s \"brutal aggression\" in Gaza and has expressed solidarity by sending its foreign envoy to the occupied West Bank.  - Vice President Rosario Murillo stated that Nicaragua is making this gesture to extend the most fraternal and combative solidarity to the Palestinians on behalf of its people and government.\\n\\nAdvertisement\\n\\nRemove Ad\\n\\nMost Read\\n\\nTop News\\n\\nBengaluru: First electric train service to Nandi Hills from December 11\\n                                                            - The cyclone-triggered heavy rainfall had led to inundation in localities including Velachery and Tambaram.    - On Wednesday too, people were seen leaving their homes in the areas surrounded with water to safer zones, carrying their children and wading through the stagnant water. They called for help, including pressing more boats to ferry people to higher ground.    - Chief Minister M K Stalin visited some of the affected areas and distributed food and essential commodities to people put up at a relief centre in the city. He inspected activities undertaken by the city civic body to drain water.ADVERTISEMENT                      AdvertisementRemove AdAdvertisementRemove Ad                      AdvertisementRemove Ad\\n\\nDecember 06, 2023 / 02:17 PM IST\\n                                                                          Israel-Hamas War Live Updates: UN hears account of alleged sexual violence during October 7 attack'"
      ]
     },
     "execution_count": 127,
     "metadata": {},
     "output_type": "execute_result"
    }
   ],
   "source": [
    "result_context"
   ]
  },
  {
   "cell_type": "code",
   "execution_count": 128,
   "metadata": {},
   "outputs": [
    {
     "name": "stdout",
     "output_type": "stream",
     "text": [
      "Result by OpenAi LLM : \n",
      "\n",
      " The first group of hostages freed from captivity in Gaza returned to Israel on November 24, on the first day of a planned four-day truce during which further exchanges of hostages for Palestinian detainees were due to take place. Regarding the cyclone in India, it triggered heavy rainfall that led to inundation in localities including Velachery and Tambaram. People were seen leaving their homes in the areas surrounded by water to safer zones, carrying their children and wading through the stagnant water. Chief Minister M K Stalin visited some of the affected areas and distributed food and essential commodities to people put up at a relief centre.\n",
      "\n",
      "['https://www.moneycontrol.com/news/business/markets/oil-settles-lower-ahead-of-opec-decision-11817711.html', 'https://www.moneycontrol.com/news/india/latest-daily-news-live-india-world-cyclone-michaung-chennai-floods-israel-hamas-war-breaking-news-and-updates-liveblog-11860771.html']\n"
     ]
    }
   ],
   "source": [
    "print(\"Result by OpenAi LLM : \")\n",
    "print()\n",
    "response=query_llm.run({\"context\":result_context,\"question\":search_query})\n",
    "print(response)\n",
    "print()\n",
    "print(source)"
   ]
  },
  {
   "cell_type": "code",
   "execution_count": null,
   "metadata": {},
   "outputs": [],
   "source": []
  }
 ],
 "metadata": {
  "kernelspec": {
   "display_name": "venv",
   "language": "python",
   "name": "python3"
  },
  "language_info": {
   "codemirror_mode": {
    "name": "ipython",
    "version": 3
   },
   "file_extension": ".py",
   "mimetype": "text/x-python",
   "name": "python",
   "nbconvert_exporter": "python",
   "pygments_lexer": "ipython3",
   "version": "3.11.4"
  }
 },
 "nbformat": 4,
 "nbformat_minor": 2
}
